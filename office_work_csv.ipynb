{
  "nbformat": 4,
  "nbformat_minor": 0,
  "metadata": {
    "colab": {
      "name": "Untitled25.ipynb",
      "provenance": [],
      "authorship_tag": "ABX9TyMy697KhOM5p9SjIFaGoqBZ",
      "include_colab_link": true
    },
    "kernelspec": {
      "name": "python3",
      "display_name": "Python 3"
    },
    "language_info": {
      "name": "python"
    }
  },
  "cells": [
    {
      "cell_type": "markdown",
      "metadata": {
        "id": "view-in-github",
        "colab_type": "text"
      },
      "source": [
        "<a href=\"https://colab.research.google.com/github/lanashin/CST2312/blob/main/office_work_csv.ipynb\" target=\"_parent\"><img src=\"https://colab.research.google.com/assets/colab-badge.svg\" alt=\"Open In Colab\"/></a>"
      ]
    },
    {
      "cell_type": "markdown",
      "metadata": {
        "id": "R7QH5w99LMV3"
      },
      "source": [
        "biometric statistics for a group of office workers. There are 18 records, recording Name, Sex, Age, Height, Weight There is an initial header line."
      ]
    },
    {
      "cell_type": "code",
      "metadata": {
        "colab": {
          "base_uri": "https://localhost:8080/"
        },
        "id": "_zr37BIoqX4Q",
        "outputId": "6ff2e0fb-8229-4425-c348-22dafc6f7783"
      },
      "source": [
        "#connecting to data source \n",
        "from google.colab import drive \n",
        "drive.mount('/content/gdrive')"
      ],
      "execution_count": null,
      "outputs": [
        {
          "output_type": "stream",
          "name": "stdout",
          "text": [
            "Mounted at /content/gdrive\n"
          ]
        }
      ]
    },
    {
      "cell_type": "code",
      "metadata": {
        "id": "zwYCDEoBqqAa"
      },
      "source": [
        "csv_file = open(\"/content/gdrive/MyDrive/data/biostats.csv\")"
      ],
      "execution_count": null,
      "outputs": []
    },
    {
      "cell_type": "code",
      "metadata": {
        "colab": {
          "base_uri": "https://localhost:8080/"
        },
        "id": "ymq9BMunq6LD",
        "outputId": "1f2585a7-9327-4d07-e08f-c61d745ac43b"
      },
      "source": [
        "#to print the contaent of this csv file \n",
        "csv_file.seek(0)\n",
        "for line in csv_file:\n",
        "  print(line, end= \" \")"
      ],
      "execution_count": null,
      "outputs": [
        {
          "output_type": "stream",
          "name": "stdout",
          "text": [
            "\"Name\",     \"Sex\", \"Age\", \"Height (in)\", \"Weight (lbs)\"\n",
            " \"Alex\",       \"M\",   41,       74,      170\n",
            " \"Bert\",       \"M\",   42,       68,      166\n",
            " \"Carl\",       \"M\",   32,       70,      155\n",
            " \"Dave\",       \"M\",   39,       72,      167\n",
            " \"Elly\",       \"F\",   30,       66,      124\n",
            " \"Fran\",       \"F\",   33,       66,      115\n",
            " \"Gwen\",       \"F\",   26,       64,      121\n",
            " \"Hank\",       \"M\",   30,       71,      158\n",
            " \"Ivan\",       \"M\",   53,       72,      175\n",
            " \"Jake\",       \"M\",   32,       69,      143\n",
            " \"Kate\",       \"F\",   47,       69,      139\n",
            " \"Luke\",       \"M\",   34,       72,      163\n",
            " \"Myra\",       \"F\",   23,       62,       98\n",
            " \"Neil\",       \"M\",   36,       75,      160\n",
            " \"Omar\",       \"M\",   38,       70,      145\n",
            " \"Page\",       \"F\",   31,       67,      135\n",
            " \"Quin\",       \"M\",   29,       71,      176\n",
            " \"Ruth\",       \"F\",   28,       65,      131\n",
            " \n",
            " "
          ]
        }
      ]
    },
    {
      "cell_type": "code",
      "metadata": {
        "colab": {
          "base_uri": "https://localhost:8080/"
        },
        "id": "UFkV6ZYzrMrw",
        "outputId": "ee26cdf2-26ee-4592-cca7-413fbaeef27d"
      },
      "source": [
        "#remember to reset the file point if you want to read the file again\n",
        "csv_file.seek(0)"
      ],
      "execution_count": null,
      "outputs": [
        {
          "output_type": "execute_result",
          "data": {
            "text/plain": [
              "0"
            ]
          },
          "metadata": {},
          "execution_count": 13
        }
      ]
    },
    {
      "cell_type": "code",
      "metadata": {
        "id": "2kgo7sM3rf9O"
      },
      "source": [
        "#import csv module, if you need to install the csv module use \n",
        "#pip install csv\n",
        "import csv"
      ],
      "execution_count": null,
      "outputs": []
    },
    {
      "cell_type": "markdown",
      "metadata": {
        "id": "RnGK81w0rvxm"
      },
      "source": [
        "Writing new CSV file \n"
      ]
    },
    {
      "cell_type": "code",
      "metadata": {
        "id": "vVAixQ9sr3nz"
      },
      "source": [
        "with open(\"/content/gdrive/MyDrive/data/biostats.csv\", \"r\") as csv_handle:\n",
        "  csv_content = csv.reader(csv_handle)\n",
        "\n",
        "  with open(\"/content/gdrive/MyDrive/data/office_workers.csv\", \"w\") as new_office:\n",
        "    csv_output = csv.writer(new_office, delimiter='|')\n",
        "    \n",
        "    for line in csv_content:\n",
        "      csv_output.writerow(line)\n"
      ],
      "execution_count": null,
      "outputs": []
    },
    {
      "cell_type": "code",
      "metadata": {
        "id": "KtFAVSHKwlyX"
      },
      "source": [
        "csv_office_file = open(\"/content/gdrive/MyDrive/data/office_workers.csv\")"
      ],
      "execution_count": null,
      "outputs": []
    },
    {
      "cell_type": "code",
      "metadata": {
        "colab": {
          "base_uri": "https://localhost:8080/"
        },
        "id": "9Fg0W2OOwA2i",
        "outputId": "ecdb63fd-e9d1-4447-8bf7-36ae582bc0cc"
      },
      "source": [
        "csv_office_file.seek(0)\n",
        "for line in csv_office_file:\n",
        "  print(line, end= \" \")"
      ],
      "execution_count": null,
      "outputs": [
        {
          "output_type": "stream",
          "name": "stdout",
          "text": [
            "Name|\"     \"\"Sex\"\"\"|\" \"\"Age\"\"\"|\" \"\"Height (in)\"\"\"|\" \"\"Weight (lbs)\"\"\"\n",
            " Alex|\"       \"\"M\"\"\"|   41|       74|      170\n",
            " Bert|\"       \"\"M\"\"\"|   42|       68|      166\n",
            " Carl|\"       \"\"M\"\"\"|   32|       70|      155\n",
            " Dave|\"       \"\"M\"\"\"|   39|       72|      167\n",
            " Elly|\"       \"\"F\"\"\"|   30|       66|      124\n",
            " Fran|\"       \"\"F\"\"\"|   33|       66|      115\n",
            " Gwen|\"       \"\"F\"\"\"|   26|       64|      121\n",
            " Hank|\"       \"\"M\"\"\"|   30|       71|      158\n",
            " Ivan|\"       \"\"M\"\"\"|   53|       72|      175\n",
            " Jake|\"       \"\"M\"\"\"|   32|       69|      143\n",
            " Kate|\"       \"\"F\"\"\"|   47|       69|      139\n",
            " Luke|\"       \"\"M\"\"\"|   34|       72|      163\n",
            " Myra|\"       \"\"F\"\"\"|   23|       62|       98\n",
            " Neil|\"       \"\"M\"\"\"|   36|       75|      160\n",
            " Omar|\"       \"\"M\"\"\"|   38|       70|      145\n",
            " Page|\"       \"\"F\"\"\"|   31|       67|      135\n",
            " Quin|\"       \"\"M\"\"\"|   29|       71|      176\n",
            " Ruth|\"       \"\"F\"\"\"|   28|       65|      131\n",
            " \n",
            " "
          ]
        }
      ]
    },
    {
      "cell_type": "markdown",
      "metadata": {
        "id": "46TbFFwgs-QI"
      },
      "source": [
        ""
      ]
    }
  ]
}