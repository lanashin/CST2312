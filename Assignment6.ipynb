{
  "nbformat": 4,
  "nbformat_minor": 0,
  "metadata": {
    "colab": {
      "name": "Untitled32.ipynb",
      "provenance": [],
      "authorship_tag": "ABX9TyOy7Y4J2u0q/knwxFITP/YA",
      "include_colab_link": true
    },
    "kernelspec": {
      "name": "python3",
      "display_name": "Python 3"
    },
    "language_info": {
      "name": "python"
    }
  },
  "cells": [
    {
      "cell_type": "markdown",
      "metadata": {
        "id": "view-in-github",
        "colab_type": "text"
      },
      "source": [
        "<a href=\"https://colab.research.google.com/github/lanashin/CST2312/blob/main/Assignment6.ipynb\" target=\"_parent\"><img src=\"https://colab.research.google.com/assets/colab-badge.svg\" alt=\"Open In Colab\"/></a>"
      ]
    },
    {
      "cell_type": "markdown",
      "source": [
        "## Assigment #6"
      ],
      "metadata": {
        "id": "Q6zhwXO2386u"
      }
    },
    {
      "cell_type": "markdown",
      "source": [
        "HW 6.1"
      ],
      "metadata": {
        "id": "GqRYLdQr4IZW"
      }
    },
    {
      "cell_type": "code",
      "source": [
        "def process_nums(phone_num):\n",
        "    hyphen_removed=\"\"\n",
        "    for p in phone_num:\n",
        "        if p!=\"-\" or p!=\".\" or p!=\"\" or p!=\"(\" or p!=\")\" or p!=\"#\" or p!=\"x\":\n",
        "            hyphen_removed=hyphen_removed+p\n",
        "        else:\n",
        "            print()\n",
        "    return hyphen_removed\n",
        "\n",
        "def phone_number_hide_all(numbers):\n",
        "    processed_nums=\"\"\n",
        "    temp=\"\"\n",
        "    processed_nums=processed_nums+\"\\n\"\n",
        "    for i in numbers:\n",
        "        if len(i)<=3:\n",
        "            processed_nums=processed_nums+i+\"\\n\"\n",
        "        else:\n",
        "            for ch in i:\n",
        "                if ch==\"1\" or ch==\"2\" or ch==\"3\" or ch==\"4\" or ch==\"5\" or ch==\"0\" or ch==\"6\" or ch==\"7\" or ch==\"8\" or ch==\"9\":\n",
        "                    temp=temp+\"X\"\n",
        "                else:\n",
        "                    temp=temp+ch\n",
        "        processed_nums=processed_nums+temp+\"\\n\"\n",
        "        temp=\"\"\n",
        "    return processed_nums\n",
        "\n",
        "def phone_num_hide(numbers,size):\n",
        "    processed_nums=\"\"\n",
        "    size=int(size)\n",
        "    temp=\"\"\n",
        "    processed_nums=processed_nums+\"\\n\"\n",
        "    hidden=\"XXX-XXX-XXXX\"\n",
        "    for i in numbers:\n",
        "        if len(i)==size or len(i)==size+2:\n",
        "            temp=process_nums(i)\n",
        "            temp=hidden\n",
        "        else:\n",
        "            processed_nums=processed_nums+i+\"\\n\"\n",
        "            print(i)\n",
        "        processed_nums=processed_nums+temp+\"\\n\"\n",
        "        temp=\"\"\n",
        "    return processed_nums\n",
        "\n",
        "raw_text=\"\"\"\n",
        "512-234-5234\n",
        "foo\n",
        "bar\n",
        "124-512-5555\n",
        "biz\n",
        "125-555-5785\n",
        "679-397-5255\n",
        "2126660921\n",
        "212-998-0902\n",
        "888-888-2222\n",
        "801-555-1211\n",
        "802·555·1212\n",
        "803.555.1213\n",
        "(804)·555-1214\n",
        "1-805-555-1215\n",
        "1(806)555-1216\n",
        "807-555-1217-1234\n",
        "808-555-1218x1234\n",
        "809-555-1219·ext.·1234\n",
        "work·1-(810)·555.1220·#1234\n",
        "\"\"\"\n",
        "hidden_numbers=\"\"\n",
        "hidden_numbers_all=\"\"\n",
        "print(\"procesing.....\")\n",
        "n=[]\n",
        "n=raw_text.split(\"\\n\")\n",
        "choice=int(input(\"Enter 5 for hidding all numbers or 10 for hiding only 10 digit numbers=? \"))\n",
        "if choice == 5:\n",
        "    hidden_numbers_all=phone_number_hide_all(n)\n",
        "    print(hidden_numbers_all)\n",
        "elif choice ==10:\n",
        "    hidden_numbers=phone_num_hide(n,10)\n",
        "    #print(hidden_numbers)\n",
        "\n",
        "print(\"Hidden phone numbers process is done!\")\n"
      ],
      "metadata": {
        "colab": {
          "base_uri": "https://localhost:8080/"
        },
        "id": "UEcRNGf_8VyI",
        "outputId": "4a4a2b62-6381-4993-83e9-afd5462c4772"
      },
      "execution_count": 1,
      "outputs": [
        {
          "output_type": "stream",
          "name": "stdout",
          "text": [
            "procesing.....\n",
            "Enter 5 for hidding all numbers or 10 for hiding only 10 digit numbers=? 5\n",
            "\n",
            "\n",
            "\n",
            "XXX-XXX-XXXX\n",
            "foo\n",
            "\n",
            "bar\n",
            "\n",
            "XXX-XXX-XXXX\n",
            "biz\n",
            "\n",
            "XXX-XXX-XXXX\n",
            "XXX-XXX-XXXX\n",
            "XXXXXXXXXX\n",
            "XXX-XXX-XXXX\n",
            "XXX-XXX-XXXX\n",
            "XXX-XXX-XXXX\n",
            "XXX·XXX·XXXX\n",
            "XXX.XXX.XXXX\n",
            "(XXX)·XXX-XXXX\n",
            "X-XXX-XXX-XXXX\n",
            "X(XXX)XXX-XXXX\n",
            "XXX-XXX-XXXX-XXXX\n",
            "XXX-XXX-XXXXxXXXX\n",
            "XXX-XXX-XXXX·ext.·XXXX\n",
            "work·X-(XXX)·XXX.XXXX·#XXXX\n",
            "\n",
            "\n",
            "\n",
            "Hidden phone numbers process is done!\n"
          ]
        }
      ]
    },
    {
      "cell_type": "markdown",
      "source": [
        "HW 6.2"
      ],
      "metadata": {
        "id": "zgNOA3eF4LFU"
      }
    },
    {
      "cell_type": "code",
      "source": [
        "# We first import the requests library\n",
        "import requests\n",
        "api_key = \"?\"  # replace with ? for general users\n",
        "url = 'http://api.ipstack.com/check?access_key='+api_key\n",
        "resp = requests.get(url)\n",
        "print(resp)"
      ],
      "metadata": {
        "colab": {
          "base_uri": "https://localhost:8080/"
        },
        "id": "GCw0mztG5JCh",
        "outputId": "7ccc9111-bffe-4785-8d0d-78673ab5db40"
      },
      "execution_count": null,
      "outputs": [
        {
          "output_type": "stream",
          "name": "stdout",
          "text": [
            "<Response [200]>\n"
          ]
        }
      ]
    },
    {
      "cell_type": "code",
      "source": [
        "# the straightforward version of the last snippet\n",
        "# Code 200 means that things went fine\n",
        "import requests\n",
        "response = requests.get('http://api.ipstack.com/check?access_key=95b375e4a1fde01c2b4520270c8cdf64')\n",
        "print(response)"
      ],
      "metadata": {
        "colab": {
          "base_uri": "https://localhost:8080/"
        },
        "id": "tcvmQN2k5Uu-",
        "outputId": "d7ff6d0e-3a01-48c4-b9fd-2252401322ae"
      },
      "execution_count": null,
      "outputs": [
        {
          "output_type": "stream",
          "name": "stdout",
          "text": [
            "<Response [200]>\n"
          ]
        }
      ]
    },
    {
      "cell_type": "code",
      "source": [
        "# Let's see the content of the response\n",
        "# As you can see, it contain the JSON response\n",
        "data = resp.text\n",
        "# Now data is a Python dictionary\n",
        "data"
      ],
      "metadata": {
        "colab": {
          "base_uri": "https://localhost:8080/",
          "height": 53
        },
        "id": "AWj9GSab5KMO",
        "outputId": "b290c45b-4721-4f0e-feef-0a8a50da984f"
      },
      "execution_count": null,
      "outputs": [
        {
          "output_type": "execute_result",
          "data": {
            "application/vnd.google.colaboratory.intrinsic+json": {
              "type": "string"
            },
            "text/plain": [
              "'{\\n  \"success\": false,\\n  \"error\": {\\n    \"code\": 101,\\n    \"type\": \"missing_access_key\",\\n    \"info\": \"You have not supplied an API Access Key. [Required format: access_key=YOUR_ACCESS_KEY]\"\\n  }\\n}\\n'"
            ]
          },
          "metadata": {},
          "execution_count": 11
        }
      ]
    },
    {
      "cell_type": "code",
      "source": [
        "# And we can access the fields of the JSON as we normally access Python dictionary entries\n",
        "print('Lon:', data['longitude'], 'Lat:', data['latitude'])"
      ],
      "metadata": {
        "colab": {
          "base_uri": "https://localhost:8080/",
          "height": 184
        },
        "id": "9nvHn0cB5yJW",
        "outputId": "ef4a1fde-3998-4b35-c510-bf999d24e18d"
      },
      "execution_count": null,
      "outputs": [
        {
          "output_type": "error",
          "ename": "TypeError",
          "evalue": "ignored",
          "traceback": [
            "\u001b[0;31m---------------------------------------------------------------------------\u001b[0m",
            "\u001b[0;31mTypeError\u001b[0m                                 Traceback (most recent call last)",
            "\u001b[0;32m<ipython-input-13-379e659b07f7>\u001b[0m in \u001b[0;36m<module>\u001b[0;34m()\u001b[0m\n\u001b[1;32m      1\u001b[0m \u001b[0;31m# And we can access the fields of the JSON as we normally access Python dictionary entries\u001b[0m\u001b[0;34m\u001b[0m\u001b[0;34m\u001b[0m\u001b[0;34m\u001b[0m\u001b[0m\n\u001b[0;32m----> 2\u001b[0;31m \u001b[0mprint\u001b[0m\u001b[0;34m(\u001b[0m\u001b[0;34m'Lon:'\u001b[0m\u001b[0;34m,\u001b[0m \u001b[0mdata\u001b[0m\u001b[0;34m[\u001b[0m\u001b[0;34m'longitude'\u001b[0m\u001b[0;34m]\u001b[0m\u001b[0;34m,\u001b[0m \u001b[0;34m'Lat:'\u001b[0m\u001b[0;34m,\u001b[0m \u001b[0mdata\u001b[0m\u001b[0;34m[\u001b[0m\u001b[0;34m'latitude'\u001b[0m\u001b[0;34m]\u001b[0m\u001b[0;34m)\u001b[0m\u001b[0;34m\u001b[0m\u001b[0;34m\u001b[0m\u001b[0m\n\u001b[0m",
            "\u001b[0;31mTypeError\u001b[0m: string indices must be integers"
          ]
        }
      ]
    },
    {
      "cell_type": "code",
      "source": [
        "import requests\n",
        "\n",
        "openweathermap_url = \"http://api.openweathermap.org/data/2.5/weather\"\n",
        "parameters = {\n",
        "    'q'     : 'New York, NY, USA',\n",
        "    'units' : 'metric',\n",
        "    'mode'  : 'json',\n",
        "    'appid' : API_key\n",
        "}\n",
        "resp = requests.get(openweathermap_url, params=parameters)\n",
        "data = resp.json()\n",
        "data"
      ],
      "metadata": {
        "colab": {
          "base_uri": "https://localhost:8080/"
        },
        "id": "P4CA-pcH6Tj7",
        "outputId": "dcf51f82-c8ff-4fae-e98c-17acdf5f53a8"
      },
      "execution_count": null,
      "outputs": [
        {
          "output_type": "execute_result",
          "data": {
            "text/plain": [
              "{'cod': 401,\n",
              " 'message': 'Invalid API key. Please see http://openweathermap.org/faq#error401 for more info.'}"
            ]
          },
          "metadata": {},
          "execution_count": 14
        }
      ]
    },
    {
      "cell_type": "code",
      "source": [
        "resp = requests.get(\"http://api.openweathermap.org/data/2.5/weather?q=New%20York,NY,USA&units=imperial&mode=json&appid=\"+API_key\")\n",
        "data = resp.json()\n",
        "data"
      ],
      "metadata": {
        "colab": {
          "base_uri": "https://localhost:8080/",
          "height": 131
        },
        "id": "Bpt-Rbwm6cvo",
        "outputId": "72a970b0-3b20-4020-87f1-a9580bf0ae1e"
      },
      "execution_count": null,
      "outputs": [
        {
          "output_type": "error",
          "ename": "SyntaxError",
          "evalue": "ignored",
          "traceback": [
            "\u001b[0;36m  File \u001b[0;32m\"<ipython-input-15-fbb92ff09560>\"\u001b[0;36m, line \u001b[0;32m1\u001b[0m\n\u001b[0;31m    resp = requests.get(\"http://api.openweathermap.org/data/2.5/weather?q=New%20York,NY,USA&units=imperial&mode=json&appid=\"+API_key\")\u001b[0m\n\u001b[0m                                                                                                                                      ^\u001b[0m\n\u001b[0;31mSyntaxError\u001b[0m\u001b[0;31m:\u001b[0m EOL while scanning string literal\n"
          ]
        }
      ]
    }
  ]
}