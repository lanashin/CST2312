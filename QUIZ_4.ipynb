{
  "nbformat": 4,
  "nbformat_minor": 0,
  "metadata": {
    "colab": {
      "name": "QUIZ_4.ipynb",
      "provenance": [],
      "authorship_tag": "ABX9TyO0T012VZVZ9V2b5Pbmvlwl",
      "include_colab_link": true
    },
    "kernelspec": {
      "name": "python3",
      "display_name": "Python 3"
    },
    "language_info": {
      "name": "python"
    }
  },
  "cells": [
    {
      "cell_type": "markdown",
      "metadata": {
        "id": "view-in-github",
        "colab_type": "text"
      },
      "source": [
        "<a href=\"https://colab.research.google.com/github/lanashin/CST2312/blob/main/QUIZ_4.ipynb\" target=\"_parent\"><img src=\"https://colab.research.google.com/assets/colab-badge.svg\" alt=\"Open In Colab\"/></a>"
      ]
    },
    {
      "cell_type": "markdown",
      "source": [
        "### Quiz 4 -Avocado CSV"
      ],
      "metadata": {
        "id": "qx508StZGKYx"
      }
    },
    {
      "cell_type": "markdown",
      "source": [
        "1. Read the file 'avocado.csv' into a Pandas DataFrame df_avocado.\n",
        "\n",
        " See this link for the avocado.csv  source file: (https://www.kaggle.com/neuromusic/avocado-prices?select=avocado.csv)\n",
        "\n",
        "2. Treat the variable 'Date' as a naive Datetime object in the DataFrame df_avocado.\n",
        "\n",
        "3. Create the following three new variables in the df_avocado DataFrame:     \n",
        "  3.a 'Year' derived from the Datetime 'Date'     \n",
        "  3.a 'Month' derived from the Datetime 'Date'     \n",
        "  3.b 'Sales' derived from the expression of 'AveragePrice' * 'TotalVolume'\n",
        "\n",
        "5. Produce a summary of 'Sales' by 'Year' and 'Month' using the .groupby() method.\n",
        "\n",
        "6. Post a shared (accessible) link to the Colab notebook where you completed steps 1 - 5, above or submit your code as an answer to this question."
      ],
      "metadata": {
        "id": "DuLBRq8mBqrw"
      }
    },
    {
      "cell_type": "markdown",
      "source": [
        "Solution:\n"
      ],
      "metadata": {
        "id": "_gVFsEQtCbLx"
      }
    },
    {
      "cell_type": "code",
      "source": [
        "#imported libraries\n",
        "import pandas as pd\n",
        "import numpy as np\n",
        "from datetime import datetime\n",
        "\n",
        "import matplotlib.pyplot as plt\n",
        "from matplotlib import style\n",
        "from IPython.core.pylabtools import figsize\n",
        "import matplotlib.pyplot as plot"
      ],
      "metadata": {
        "id": "0ToST82CCMYs"
      },
      "execution_count": 22,
      "outputs": []
    },
    {
      "cell_type": "code",
      "source": [
        "#to read file\n",
        "from google.colab import drive\n",
        "drive.mount('/content/gdrive')"
      ],
      "metadata": {
        "colab": {
          "base_uri": "https://localhost:8080/"
        },
        "id": "VFyE8QutCn54",
        "outputId": "426f29fc-8788-451c-b7b9-87821b9335ef"
      },
      "execution_count": 12,
      "outputs": [
        {
          "output_type": "stream",
          "name": "stdout",
          "text": [
            "Drive already mounted at /content/gdrive; to attempt to forcibly remount, call drive.mount(\"/content/gdrive\", force_remount=True).\n"
          ]
        }
      ]
    },
    {
      "cell_type": "code",
      "source": [
        "#open data from my google drive\n",
        "df_av = pd.read_csv('/content/gdrive/MyDrive/data/avocado.csv')"
      ],
      "metadata": {
        "id": "6zfEQaq4CuVd"
      },
      "execution_count": 13,
      "outputs": []
    },
    {
      "cell_type": "code",
      "source": [
        "#'Date' as a naive Datetime object in the DataFrame\n",
        "df_av_parse = pd.read_csv('/content/gdrive/MyDrive/data/avocado.csv', parse_dates=['Date'])\n",
        "df_av['Date'] = pd.to_datetime(df_av['Date'])"
      ],
      "metadata": {
        "id": "arSC217fCyXn"
      },
      "execution_count": 14,
      "outputs": []
    },
    {
      "cell_type": "code",
      "source": [
        "# 'Year' derived from the Datetime 'Date'\n",
        "df_av['Year'] = df_av['Date'].dt.year\n",
        "#a 'Month' derived from the Datetime 'Date'\n",
        "df_av['Month'] = df_av['Date'].dt.month\n",
        "\n",
        "print(df_av)"
      ],
      "metadata": {
        "colab": {
          "base_uri": "https://localhost:8080/"
        },
        "id": "hgkdSV7mDoK0",
        "outputId": "50fa87e2-5cc3-4dac-c058-4c95fcb2eeba"
      },
      "execution_count": 15,
      "outputs": [
        {
          "output_type": "stream",
          "name": "stdout",
          "text": [
            "       Unnamed: 0       Date  AveragePrice  ...            region  Year  Month\n",
            "0               0 2015-12-27          1.33  ...            Albany  2015     12\n",
            "1               1 2015-12-20          1.35  ...            Albany  2015     12\n",
            "2               2 2015-12-13          0.93  ...            Albany  2015     12\n",
            "3               3 2015-12-06          1.08  ...            Albany  2015     12\n",
            "4               4 2015-11-29          1.28  ...            Albany  2015     11\n",
            "...           ...        ...           ...  ...               ...   ...    ...\n",
            "18244           7 2018-02-04          1.63  ...  WestTexNewMexico  2018      2\n",
            "18245           8 2018-01-28          1.71  ...  WestTexNewMexico  2018      1\n",
            "18246           9 2018-01-21          1.87  ...  WestTexNewMexico  2018      1\n",
            "18247          10 2018-01-14          1.93  ...  WestTexNewMexico  2018      1\n",
            "18248          11 2018-01-07          1.62  ...  WestTexNewMexico  2018      1\n",
            "\n",
            "[18249 rows x 16 columns]\n"
          ]
        }
      ]
    },
    {
      "cell_type": "code",
      "source": [
        "# 'Sales' derived from the expression of 'AveragePrice' * 'TotalVolume'\n",
        "df_av['Sales'] = (df_av['AveragePrice'] * df_av['Total Volume'])"
      ],
      "metadata": {
        "id": "cE11p2v0EDg2"
      },
      "execution_count": 16,
      "outputs": []
    },
    {
      "cell_type": "code",
      "source": [
        "print(df_av)"
      ],
      "metadata": {
        "colab": {
          "base_uri": "https://localhost:8080/"
        },
        "id": "V6Xzu_XzEGU2",
        "outputId": "95737048-3fea-43cc-e4e8-f1c7f559879c"
      },
      "execution_count": 17,
      "outputs": [
        {
          "output_type": "stream",
          "name": "stdout",
          "text": [
            "       Unnamed: 0       Date  AveragePrice  ...  Year  Month        Sales\n",
            "0               0 2015-12-27          1.33  ...  2015     12   85434.7046\n",
            "1               1 2015-12-20          1.35  ...  2015     12   74083.9230\n",
            "2               2 2015-12-13          0.93  ...  2015     12  109944.8046\n",
            "3               3 2015-12-06          1.08  ...  2015     12   85311.5220\n",
            "4               4 2015-11-29          1.28  ...  2015     11   65330.6880\n",
            "...           ...        ...           ...  ...   ...    ...          ...\n",
            "18244           7 2018-02-04          1.63  ...  2018      2   27831.9729\n",
            "18245           8 2018-01-28          1.71  ...  2018      1   23748.5484\n",
            "18246           9 2018-01-21          1.87  ...  2018      1   25743.8412\n",
            "18247          10 2018-01-14          1.93  ...  2018      1   31276.0746\n",
            "18248          11 2018-01-07          1.62  ...  2018      1   28333.1196\n",
            "\n",
            "[18249 rows x 17 columns]\n"
          ]
        }
      ]
    },
    {
      "cell_type": "code",
      "source": [
        "#Produce a summary of 'Sales' by 'Year' and 'Month' using the .groupby() method.\n",
        "df_av.groupby(['Year','Month']).size().unstack().plot(kind='bar', stacked=True)\n",
        "plt.title(\"Sales by year and month\")\n",
        "plt.xlabel(\"Year\")\n",
        "plt.ylabel(\"Sales\")\n",
        "plt.show()"
      ],
      "metadata": {
        "colab": {
          "base_uri": "https://localhost:8080/",
          "height": 311
        },
        "id": "TFvLQAKxEHWx",
        "outputId": "1b443ff8-8d1f-4e37-b369-de9097848c6a"
      },
      "execution_count": 27,
      "outputs": [
        {
          "output_type": "display_data",
          "data": {
            "image/png": "[encoded data removed]",
            "text/plain": [
              "<Figure size 432x288 with 1 Axes>"
            ]
          },
          "metadata": {
            "needs_background": "light"
          }
        }
      ]
    },
    {
      "cell_type": "code",
      "source": [
        ""
      ],
      "metadata": {
        "id": "pe0x_AlCFi6W"
      },
      "execution_count": null,
      "outputs": []
    }
  ]
}