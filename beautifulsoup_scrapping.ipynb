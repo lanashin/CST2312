{
  "nbformat": 4,
  "nbformat_minor": 0,
  "metadata": {
    "colab": {
      "provenance": [],
      "authorship_tag": "ABX9TyMDujAFlJD733iR4FLD799h",
      "include_colab_link": true
    },
    "kernelspec": {
      "name": "python3",
      "display_name": "Python 3"
    },
    "language_info": {
      "name": "python"
    }
  },
  "cells": [
    {
      "cell_type": "markdown",
      "metadata": {
        "id": "view-in-github",
        "colab_type": "text"
      },
      "source": [
        "<a href=\"https://colab.research.google.com/github/lanashin/CST2312/blob/main/beautifulsoup_scrapping.ipynb\" target=\"_parent\"><img src=\"https://colab.research.google.com/assets/colab-badge.svg\" alt=\"Open In Colab\"/></a>"
      ]
    },
    {
      "cell_type": "code",
      "source": [
        "pip install bs4 \n"
      ],
      "metadata": {
        "colab": {
          "base_uri": "https://localhost:8080/"
        },
        "id": "Hb_L6G7--6ZK",
        "outputId": "42f5c861-39e1-40ec-d01e-464123cd33a5"
      },
      "execution_count": 1,
      "outputs": [
        {
          "output_type": "stream",
          "name": "stdout",
          "text": [
            "Looking in indexes: https://pypi.org/simple, https://us-python.pkg.dev/colab-wheels/public/simple/\n",
            "Requirement already satisfied: bs4 in /usr/local/lib/python3.7/dist-packages (0.0.1)\n",
            "Requirement already satisfied: beautifulsoup4 in /usr/local/lib/python3.7/dist-packages (from bs4) (4.6.3)\n"
          ]
        }
      ]
    },
    {
      "cell_type": "code",
      "source": [
        "pip install requests "
      ],
      "metadata": {
        "colab": {
          "base_uri": "https://localhost:8080/"
        },
        "id": "G8gYZ5B2L1W0",
        "outputId": "17f5c721-ae52-43bc-fc34-f4f513973879"
      },
      "execution_count": 2,
      "outputs": [
        {
          "output_type": "stream",
          "name": "stdout",
          "text": [
            "Looking in indexes: https://pypi.org/simple, https://us-python.pkg.dev/colab-wheels/public/simple/\n",
            "Requirement already satisfied: requests in /usr/local/lib/python3.7/dist-packages (2.23.0)\n",
            "Requirement already satisfied: certifi>=2017.4.17 in /usr/local/lib/python3.7/dist-packages (from requests) (2022.9.24)\n",
            "Requirement already satisfied: idna<3,>=2.5 in /usr/local/lib/python3.7/dist-packages (from requests) (2.10)\n",
            "Requirement already satisfied: urllib3!=1.25.0,!=1.25.1,<1.26,>=1.21.1 in /usr/local/lib/python3.7/dist-packages (from requests) (1.24.3)\n",
            "Requirement already satisfied: chardet<4,>=3.0.2 in /usr/local/lib/python3.7/dist-packages (from requests) (3.0.4)\n"
          ]
        }
      ]
    },
    {
      "cell_type": "code",
      "source": [
        "#the first step is to import the libraries\n",
        "import csv \n",
        "from datetime import datetime \n",
        "#to use the current date \n",
        "import requests\n",
        "#to send get request to the server to get raw html\n",
        "from bs4 import BeautifulSoup\n",
        "#to parse the HTML and extract the data that we want form job postings"
      ],
      "metadata": {
        "id": "XbrH_kgXL_9J"
      },
      "execution_count": 3,
      "outputs": []
    },
    {
      "cell_type": "code",
      "source": [
        "#copy from indeed until &vjk\n",
        "#template = \"https://www.indeed.com/jobs?q=data+analyst+entry+level&l=New+York%2C+NY\"\n",
        "#delete the job text and replate it with curly braces \n",
        "#delete the location and replate it with curly braces \n"
      ],
      "metadata": {
        "id": "-lAlgbz8M0iV"
      },
      "execution_count": 4,
      "outputs": []
    },
    {
      "cell_type": "code",
      "source": [
        "template2 = 'https://www.indeed.com/jobs?q={}&l={}'"
      ],
      "metadata": {
        "id": "XeceBmUfSZ0e"
      },
      "execution_count": 5,
      "outputs": []
    },
    {
      "cell_type": "code",
      "source": [
        "#template = 'https://www.indeed.com/jobs?q={}&l={}'\n",
        "#creates template we can use to insert whatever job location that we want"
      ],
      "metadata": {
        "id": "G1cw2pGHORaS"
      },
      "execution_count": 6,
      "outputs": []
    },
    {
      "cell_type": "code",
      "source": [
        "#create a function called get_url with the arguments of position and location \n",
        "def get_url(position, location):\n",
        "  template = 'https://www.indeed.com/jobs?q={}&l={}'\n",
        "  #movce the template variable inside this function \n",
        "  url = template.format(position, location)\n",
        "  return url"
      ],
      "metadata": {
        "id": "2S5bvMGrO0uK"
      },
      "execution_count": 7,
      "outputs": []
    },
    {
      "cell_type": "code",
      "source": [
        "url = get_url('data analyst', 'New York NY')\n",
        "#without the comma before the state"
      ],
      "metadata": {
        "id": "HRAE6Ya7PtX3"
      },
      "execution_count": 8,
      "outputs": []
    },
    {
      "cell_type": "markdown",
      "source": [
        "## Extract raw HTML"
      ],
      "metadata": {
        "id": "Zj_lRvJtQGXz"
      }
    },
    {
      "cell_type": "code",
      "source": [
        "response = requests.get(url)"
      ],
      "metadata": {
        "id": "7eeJO4aoQK3v"
      },
      "execution_count": 9,
      "outputs": []
    },
    {
      "cell_type": "code",
      "source": [
        "response"
      ],
      "metadata": {
        "colab": {
          "base_uri": "https://localhost:8080/"
        },
        "id": "HDzDG9svQXCa",
        "outputId": "d95b0e8f-7d0b-493d-f9da-1382fb24605a"
      },
      "execution_count": 10,
      "outputs": [
        {
          "output_type": "execute_result",
          "data": {
            "text/plain": [
              "<Response [403]>"
            ]
          },
          "metadata": {},
          "execution_count": 10
        }
      ]
    },
    {
      "cell_type": "code",
      "source": [
        "#reason if the request wasn't succesful \n",
        "response.reason"
      ],
      "metadata": {
        "colab": {
          "base_uri": "https://localhost:8080/",
          "height": 35
        },
        "id": "NzwYXCtXQhOt",
        "outputId": "26993bc9-df17-4644-c178-f67580767477"
      },
      "execution_count": 11,
      "outputs": [
        {
          "output_type": "execute_result",
          "data": {
            "text/plain": [
              "'Forbidden'"
            ],
            "application/vnd.google.colaboratory.intrinsic+json": {
              "type": "string"
            }
          },
          "metadata": {},
          "execution_count": 11
        }
      ]
    }
  ]
}