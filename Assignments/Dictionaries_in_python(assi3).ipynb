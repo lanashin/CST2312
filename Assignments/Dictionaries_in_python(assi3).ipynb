{
  "nbformat": 4,
  "nbformat_minor": 0,
  "metadata": {
    "colab": {
      "name": "Dictionaries_in_python(assi3).ipynb",
      "provenance": [],
      "authorship_tag": "ABX9TyMFOsF+f4lEZeuUZNZpZ8qb",
      "include_colab_link": true
    },
    "kernelspec": {
      "name": "python3",
      "display_name": "Python 3"
    },
    "language_info": {
      "name": "python"
    }
  },
  "cells": [
    {
      "cell_type": "markdown",
      "metadata": {
        "id": "view-in-github",
        "colab_type": "text"
      },
      "source": [
        "<a href=\"https://colab.research.google.com/github/lanashin/CST23122/blob/main/Assignments/Dictionaries_in_python(assi3).ipynb\" target=\"_parent\"><img src=\"https://colab.research.google.com/assets/colab-badge.svg\" alt=\"Open In Colab\"/></a>"
      ]
    },
    {
      "cell_type": "code",
      "metadata": {
        "colab": {
          "base_uri": "https://localhost:8080/"
        },
        "id": "Vhv2kb2U2kKt",
        "outputId": "bb9c3657-81ab-4387-fd6a-83538006e409"
      },
      "source": [
        "from typing import Dict\n",
        "#2 specific concrete types \n",
        "team: Dict[int,str] = {}\n",
        "#in dict we can start from any number not necessary form o as in list\n",
        "team[23] = \"Jordan\"\n",
        "#team[23]\n",
        "team[33] = \"Pippen\"\n",
        "#team[33]\n",
        "team[23]= \"James\"\n",
        "team[23]\n",
        "#you can't have duplicate keys but you can have duplicate values\n",
        "team\n"
      ],
      "execution_count": 10,
      "outputs": [
        {
          "output_type": "execute_result",
          "data": {
            "text/plain": [
              "{23: 'James', 33: 'Pippen'}"
            ]
          },
          "metadata": {},
          "execution_count": 10
        }
      ]
    },
    {
      "cell_type": "code",
      "metadata": {
        "colab": {
          "base_uri": "https://localhost:8080/"
        },
        "id": "AVBUKEVt4iwO",
        "outputId": "c902dc5a-5d38-48b6-d97a-143bc9c19059"
      },
      "source": [
        "#some reference examples of using dictionaries\n",
        "from typing import Dict \n",
        "#declare dict[key_type, value_type]\n",
        "#in this example key is int and value is a string\n",
        "#we're mapping integers -> strings \n",
        "team: Dict[int, str]= {}\n",
        "team[91] = \"Rodman\"\n",
        "team[23]= \"Jordan\"\n",
        "team[33]= \"Pippen\"\n",
        "\n",
        "#interate through the key of a dictionary \n",
        "for key in team:\n",
        "  print(key) #we expect it will keep the same order as we type keys in dict\n",
        "\n",
        "  #access values by given their key in subscription \n",
        "  print(team[key])\n"
      ],
      "execution_count": 21,
      "outputs": [
        {
          "output_type": "stream",
          "name": "stdout",
          "text": [
            "91\n",
            "Rodman\n",
            "23\n",
            "Jordan\n",
            "33\n",
            "Pippen\n"
          ]
        }
      ]
    },
    {
      "cell_type": "code",
      "metadata": {
        "colab": {
          "base_uri": "https://localhost:8080/"
        },
        "id": "vwiXFZ_l6LmT",
        "outputId": "4a599740-dff3-4252-86cb-35b8ff8e94e7"
      },
      "source": [
        "#remove a key value (str) pair by its key \n",
        "booted_player: str = team.pop(91)\n",
        "print (booted_player)\n",
        "print(team)\n",
        "#dictionaries as lists are mutibale data stracters - that can be changinf or overating by its value removed "
      ],
      "execution_count": 22,
      "outputs": [
        {
          "output_type": "stream",
          "name": "stdout",
          "text": [
            "Rodman\n",
            "{23: 'Jordan', 33: 'Pippen'}\n"
          ]
        }
      ]
    },
    {
      "cell_type": "code",
      "metadata": {
        "colab": {
          "base_uri": "https://localhost:8080/"
        },
        "id": "HnrChdpQ7mb_",
        "outputId": "7f6357b3-f9e1-4cfd-eb35-e0cd05fde5e3"
      },
      "source": [
        "#test if we have specific key in the dict\n",
        "if 23 in team:\n",
        "  print(\"You have Jordan\")\n",
        "if 91 in team:\n",
        "  print(\"You have Rodman\")"
      ],
      "execution_count": 23,
      "outputs": [
        {
          "output_type": "stream",
          "name": "stdout",
          "text": [
            "You have Jordan\n"
          ]
        }
      ]
    },
    {
      "cell_type": "code",
      "metadata": {
        "id": "-mEoCQf18P0x"
      },
      "source": [
        "#Change Examples to DNA Base Pairs \n",
        "def count_pairs(dna: str)-> Dict[str, int]:   \n",
        "  counts: Dict[str,int] = {     #dict literal sentax in paranthasys\n",
        "    \"a\":0,\n",
        "    \"c\":0,\n",
        "    \"g\":0,\n",
        "    \"t\":0\n",
        "  }\n",
        "  for letter in dna:      #for each letter in dna, as a counts given letter and add one\n",
        "      counts[letter] +=1\n",
        "  return counts"
      ],
      "execution_count": 29,
      "outputs": []
    },
    {
      "cell_type": "code",
      "metadata": {
        "colab": {
          "base_uri": "https://localhost:8080/"
        },
        "id": "WhuGCKyR_mSc",
        "outputId": "e56a58b1-9bd7-44e9-f743-77ba9645e4bb"
      },
      "source": [
        "count_pairs(\"acgtaagaagt\")"
      ],
      "execution_count": 30,
      "outputs": [
        {
          "output_type": "execute_result",
          "data": {
            "text/plain": [
              "{'a': 5, 'c': 1, 'g': 3, 't': 2}"
            ]
          },
          "metadata": {},
          "execution_count": 30
        }
      ]
    }
  ]
}