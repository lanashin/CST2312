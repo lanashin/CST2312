{
  "nbformat": 4,
  "nbformat_minor": 0,
  "metadata": {
    "colab": {
      "name": "Assingment_4.ipynb",
      "provenance": [],
      "authorship_tag": "ABX9TyNWSXAPhW4cFMBEQ2C5eHg1",
      "include_colab_link": true
    },
    "kernelspec": {
      "name": "python3",
      "display_name": "Python 3"
    },
    "language_info": {
      "name": "python"
    }
  },
  "cells": [
    {
      "cell_type": "markdown",
      "metadata": {
        "id": "view-in-github",
        "colab_type": "text"
      },
      "source": [
        "<a href=\"https://colab.research.google.com/github/lanashin/CST2312/blob/main/Assingments/%20Assingment_4.ipynb\" target=\"_parent\"><img src=\"https://colab.research.google.com/assets/colab-badge.svg\" alt=\"Open In Colab\"/></a>"
      ]
    },
    {
      "cell_type": "markdown",
      "metadata": {
        "id": "N_wJ1UotWKUe"
      },
      "source": [
        " CST2312 Assignment #4\n",
        " Dictionaries and counting\n",
        "\n",
        "Enhance the following code to:\n",
        "- not be case-sensitive\n",
        "- not be confused by punctuation\n",
        "- sort the count in descending order\n",
        "\n",
        "counts = dict()\n",
        "\n",
        "print('Enter a line of text:')\n",
        "\n",
        "line = input('')\n",
        "words = line.split()\n",
        "print('Words:', words)\n",
        "print('Counting...')\n",
        "\n",
        "for word in words: \n",
        "    counts[word] = counts.get(word,0) + 1\n",
        "    # The following line is scaffolding to peek inside the loop\n",
        "    # print(word,\":\", counts[word])\n",
        "\n",
        "print('Counts', counts"
      ]
    },
    {
      "cell_type": "markdown",
      "metadata": {
        "id": "yke639OvWbco"
      },
      "source": [
        "###My solution:"
      ]
    },
    {
      "cell_type": "code",
      "metadata": {
        "colab": {
          "base_uri": "https://localhost:8080/"
        },
        "id": "l2d075NAQWUd",
        "outputId": "4f2c8c10-3ce5-4db2-bdca-bb9aa4b9c814"
      },
      "source": [
        "import string\n",
        "counts = dict()\n",
        "\n",
        "print('Enter a line of text:')\n",
        "\n",
        "#making all the list words in lower key\n",
        "line = input('').lower()\n",
        "words = line.split()\n",
        "print('\\nWords:', words)\n",
        "\n",
        "#to show what punctuation we do have in the sentence\n",
        "for i in line:\n",
        "  if i in string.punctuation:\n",
        "    print(\"Punctuation: \"+ i)\n",
        "\n",
        "print('\\nCounting the number of each word...')\n",
        "\n",
        "for word in words: \n",
        "    counts[word] = counts.get(word,0) + 1\n",
        "    # The following line is scaffolding to peek inside the loop\n",
        "    # print(word,\":\", counts[word])\n",
        "\n",
        "print('Counts', counts)\n",
        "#sorted by descending order\n",
        "print(\"\\nSorted in descending order:\")\n",
        "print(sorted(counts, reverse = True))\n",
        "\n"
      ],
      "execution_count": 34,
      "outputs": [
        {
          "output_type": "stream",
          "name": "stdout",
          "text": [
            "Enter a line of text:\n",
            "Sir, in my heart there was a kind of fighting That would not let me sleep.\n",
            "\n",
            "Words: ['sir,', 'in', 'my', 'heart', 'there', 'was', 'a', 'kind', 'of', 'fighting', 'that', 'would', 'not', 'let', 'me', 'sleep.']\n",
            "Punctuation: ,\n",
            "Punctuation: .\n",
            "\n",
            "Counting the number of each word...\n",
            "Counts {'sir,': 1, 'in': 1, 'my': 1, 'heart': 1, 'there': 1, 'was': 1, 'a': 1, 'kind': 1, 'of': 1, 'fighting': 1, 'that': 1, 'would': 1, 'not': 1, 'let': 1, 'me': 1, 'sleep.': 1}\n",
            "\n",
            "Sorted in descending order:\n",
            "['would', 'was', 'there', 'that', 'sleep.', 'sir,', 'of', 'not', 'my', 'me', 'let', 'kind', 'in', 'heart', 'fighting', 'a']\n"
          ]
        }
      ]
    }
  ]
}