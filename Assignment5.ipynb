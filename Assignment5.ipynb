{
  "nbformat": 4,
  "nbformat_minor": 0,
  "metadata": {
    "colab": {
      "name": "Assignment5.ipynb",
      "provenance": [],
      "mount_file_id": "1m2_dNhKXu6APCzE-nd-vqqyHnHyWJjHe",
      "authorship_tag": "ABX9TyNKHST2585xf1f5HnmVpoQ6",
      "include_colab_link": true
    },
    "kernelspec": {
      "name": "python3",
      "display_name": "Python 3"
    },
    "language_info": {
      "name": "python"
    }
  },
  "cells": [
    {
      "cell_type": "markdown",
      "metadata": {
        "id": "view-in-github",
        "colab_type": "text"
      },
      "source": [
        "<a href=\"https://colab.research.google.com/github/lanashin/CST2312/blob/main/Assignment5.ipynb\" target=\"_parent\"><img src=\"https://colab.research.google.com/assets/colab-badge.svg\" alt=\"Open In Colab\"/></a>"
      ]
    },
    {
      "cell_type": "markdown",
      "source": [
        "Write a working Python program which uses a dictionary based on BIP 39 mnemonics to evaluate the text of one or more files of Herman Melville's novel Moby Dick and count the frequency of the use of each BIP 39 mnemonic in the book. Reference that dictionary to print a list of the top-20 most used BIP mnemonics in Moby Dick as a tuple of (key, value) in descending order of value (frequency). Open source, available text files include:\n",
        "\n",
        "Project Guttenberg's Moby Dick project\n",
        "\n",
        "bip-0039.txt\n",
        "\n",
        "\n",
        "There are copies of the required input files attached, also on Blackboard in the Exercises and Files folder, as well as on the github of ProfessorPatrickSlatraigh.\n",
        "\n",
        "The assignment involves finding BIP 39 mnemonics (https://en.wikipedia.org/wiki/Bitcoin_Improvement_Proposals) in a text file and counting the frequency of their use.\n",
        "\n"
      ],
      "metadata": {
        "id": "28NZzhYgYxRw"
      }
    },
    {
      "cell_type": "code",
      "source": [
        "#mount the drive\n",
        "from google.colab import drive\n",
        "drive.mount('/content/drive')"
      ],
      "metadata": {
        "colab": {
          "base_uri": "https://localhost:8080/"
        },
        "id": "6RodJgyyYv_H",
        "outputId": "a300ed82-5190-48f2-a90d-251b6680edbd"
      },
      "execution_count": 25,
      "outputs": [
        {
          "output_type": "stream",
          "name": "stdout",
          "text": [
            "Drive already mounted at /content/drive; to attempt to forcibly remount, call drive.mount(\"/content/drive\", force_remount=True).\n"
          ]
        }
      ]
    },
    {
      "cell_type": "code",
      "source": [
        "#Open the BIP 39 file \n",
        "bip = open('/content/drive/MyDrive/1.City Tech Fall 2021/CST 2312- information and Data Management/bip-0039(1).txt')\n"
      ],
      "metadata": {
        "id": "icyzlIOoZuj7"
      },
      "execution_count": 26,
      "outputs": []
    },
    {
      "cell_type": "code",
      "source": [
        "#read line-by-line into a dictionay as keys with an initial value of 0 (integer) for each key/value pair\n",
        "#bip_di - create a dictionary of BIP 39 mnemonics \n",
        "#variable x sets initial value for key/value pairs\n",
        "\n",
        "bip_di = dict()\n",
        "x = 0\n",
        "\n",
        "for word in bip:\n",
        "    word = word.rstrip()\n",
        "    bip_di[word] = x"
      ],
      "metadata": {
        "id": "rSy0Rhu8bpFl"
      },
      "execution_count": 27,
      "outputs": []
    },
    {
      "cell_type": "code",
      "source": [
        "#import modules\n",
        "#import string module to access string.punction list\n",
        "import string"
      ],
      "metadata": {
        "id": "3ey3GA7cefCW"
      },
      "execution_count": 28,
      "outputs": []
    },
    {
      "cell_type": "code",
      "source": [
        "#initialize moby_di DICTIONARY\n",
        "moby_di = dict()"
      ],
      "metadata": {
        "id": "I56g5WeYexZ4"
      },
      "execution_count": 29,
      "outputs": []
    },
    {
      "cell_type": "code",
      "source": [
        "#Open the moby file \n",
        "moby = open('/content/drive/MyDrive/1.City Tech Fall 2021/CST 2312- information and Data Management/mobydick.txt')"
      ],
      "metadata": {
        "id": "8vGIlnAuciVp"
      },
      "execution_count": 31,
      "outputs": []
    },
    {
      "cell_type": "code",
      "source": [
        "#line number I  want to check\n",
        "for line in moby:\n",
        "    if line[:20] != \"..\" :\n",
        "        line = line.rstrip()\n",
        "        # print(line)\n",
        "        # input(\"Type enter to continue\")\n",
        "        words = line.split()\n",
        "        for word in words :\n",
        "            word = word.lower()\n",
        "            # idiom retrieve/create/update counter\n",
        "            bip_di[word] = bip_di.get(word, 0) + 1\n",
        "            \n",
        "most_to_least = sorted(bip_di, key=bip_di.get, reverse=True)\n",
        "#the number of words\n",
        "print(most_to_least[:15])"
      ],
      "metadata": {
        "id": "RobF6hyoms1_",
        "colab": {
          "base_uri": "https://localhost:8080/"
        },
        "outputId": "aed9a10e-a7a4-4543-d90d-0099567d962a"
      },
      "execution_count": 35,
      "outputs": [
        {
          "output_type": "stream",
          "name": "stdout",
          "text": [
            "['the', 'of', 'and', 'a', 'to', 'in', ';', 'that', 'his', 'i', 'he', 'it', \"'\", 'with', 'but']\n"
          ]
        }
      ]
    }
  ]
}