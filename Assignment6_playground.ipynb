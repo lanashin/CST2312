{
  "nbformat": 4,
  "nbformat_minor": 0,
  "metadata": {
    "colab": {
      "name": "Untitled32.ipynb",
      "provenance": [],
      "authorship_tag": "ABX9TyOG7HfOP1pwe9YNIHPzVKFC",
      "include_colab_link": true
    },
    "kernelspec": {
      "name": "python3",
      "display_name": "Python 3"
    },
    "language_info": {
      "name": "python"
    }
  },
  "cells": [
    {
      "cell_type": "markdown",
      "metadata": {
        "id": "view-in-github",
        "colab_type": "text"
      },
      "source": [
        "<a href=\"https://colab.research.google.com/github/lanashin/CST2312/blob/main/Assignment6_playground.ipynb\" target=\"_parent\"><img src=\"https://colab.research.google.com/assets/colab-badge.svg\" alt=\"Open In Colab\"/></a>"
      ]
    },
    {
      "cell_type": "markdown",
      "source": [
        "## Assigment #6\n",
        "\n",
        "long solution that I found online."
      ],
      "metadata": {
        "id": "Q6zhwXO2386u"
      }
    },
    {
      "cell_type": "markdown",
      "source": [
        "HW 6.1"
      ],
      "metadata": {
        "id": "GqRYLdQr4IZW"
      }
    },
    {
      "cell_type": "code",
      "source": [
        "def process_nums(phone_num):\n",
        "    hyphen_removed=\"\"\n",
        "    for p in phone_num:\n",
        "        if p!=\"-\" or p!=\".\" or p!=\"\" or p!=\"(\" or p!=\")\" or p!=\"#\" or p!=\"x\":\n",
        "            hyphen_removed=hyphen_removed+p\n",
        "        else:\n",
        "            print()\n",
        "    return hyphen_removed\n",
        "\n",
        "def phone_number_hide_all(numbers):\n",
        "    processed_nums=\"\"\n",
        "    temp=\"\"\n",
        "    processed_nums=processed_nums+\"\\n\"\n",
        "    for i in numbers:\n",
        "        if len(i)<=3:\n",
        "            processed_nums=processed_nums+i+\"\\n\"\n",
        "        else:\n",
        "            for ch in i:\n",
        "                if ch==\"1\" or ch==\"2\" or ch==\"3\" or ch==\"4\" or ch==\"5\" or ch==\"0\" or ch==\"6\" or ch==\"7\" or ch==\"8\" or ch==\"9\":\n",
        "                    temp=temp+\"X\"\n",
        "                else:\n",
        "                    temp=temp+ch\n",
        "        processed_nums=processed_nums+temp+\"\\n\"\n",
        "        temp=\"\"\n",
        "    return processed_nums\n",
        "\n",
        "def phone_num_hide(numbers,size):\n",
        "    processed_nums=\"\"\n",
        "    size=int(size)\n",
        "    temp=\"\"\n",
        "    processed_nums=processed_nums+\"\\n\"\n",
        "    hidden=\"XXX-XXX-XXXX\"\n",
        "    for i in numbers:\n",
        "        if len(i)==size or len(i)==size+2:\n",
        "            temp=process_nums(i)\n",
        "            temp=hidden\n",
        "        else:\n",
        "            processed_nums=processed_nums+i+\"\\n\"\n",
        "            print(i)\n",
        "        processed_nums=processed_nums+temp+\"\\n\"\n",
        "        temp=\"\"\n",
        "    return processed_nums\n",
        "\n",
        "raw_text=\"\"\"\n",
        "512-234-5234\n",
        "foo\n",
        "bar\n",
        "124-512-5555\n",
        "biz\n",
        "125-555-5785\n",
        "679-397-5255\n",
        "2126660921\n",
        "212-998-0902\n",
        "888-888-2222\n",
        "801-555-1211\n",
        "802·555·1212\n",
        "803.555.1213\n",
        "(804)·555-1214\n",
        "1-805-555-1215\n",
        "1(806)555-1216\n",
        "807-555-1217-1234\n",
        "808-555-1218x1234\n",
        "809-555-1219·ext.·1234\n",
        "work·1-(810)·555.1220·#1234\n",
        "\"\"\"\n",
        "hidden_numbers=\"\"\n",
        "hidden_numbers_all=\"\"\n",
        "print(\"procesing.....\")\n",
        "n=[]\n",
        "n=raw_text.split(\"\\n\")\n",
        "choice=int(input(\"Enter 5 for hidding all numbers or 10 for hiding only 10 digit numbers=? \"))\n",
        "if choice == 5:\n",
        "    hidden_numbers_all=phone_number_hide_all(n)\n",
        "    print(hidden_numbers_all)\n",
        "elif choice ==10:\n",
        "    hidden_numbers=phone_num_hide(n,10)\n",
        "    #print(hidden_numbers)\n",
        "\n",
        "print(\"Hidden phone numbers process is done!\")\n"
      ],
      "metadata": {
        "colab": {
          "base_uri": "https://localhost:8080/"
        },
        "id": "UEcRNGf_8VyI",
        "outputId": "4a4a2b62-6381-4993-83e9-afd5462c4772"
      },
      "execution_count": null,
      "outputs": [
        {
          "output_type": "stream",
          "name": "stdout",
          "text": [
            "procesing.....\n",
            "Enter 5 for hidding all numbers or 10 for hiding only 10 digit numbers=? 5\n",
            "\n",
            "\n",
            "\n",
            "XXX-XXX-XXXX\n",
            "foo\n",
            "\n",
            "bar\n",
            "\n",
            "XXX-XXX-XXXX\n",
            "biz\n",
            "\n",
            "XXX-XXX-XXXX\n",
            "XXX-XXX-XXXX\n",
            "XXXXXXXXXX\n",
            "XXX-XXX-XXXX\n",
            "XXX-XXX-XXXX\n",
            "XXX-XXX-XXXX\n",
            "XXX·XXX·XXXX\n",
            "XXX.XXX.XXXX\n",
            "(XXX)·XXX-XXXX\n",
            "X-XXX-XXX-XXXX\n",
            "X(XXX)XXX-XXXX\n",
            "XXX-XXX-XXXX-XXXX\n",
            "XXX-XXX-XXXXxXXXX\n",
            "XXX-XXX-XXXX·ext.·XXXX\n",
            "work·X-(XXX)·XXX.XXXX·#XXXX\n",
            "\n",
            "\n",
            "\n",
            "Hidden phone numbers process is done!\n"
          ]
        }
      ]
    }
  ]
}